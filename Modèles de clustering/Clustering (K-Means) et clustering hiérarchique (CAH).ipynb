{
 "cells": [
  {
   "cell_type": "markdown",
   "id": "9c58033f",
   "metadata": {},
   "source": [
    "### Clustering (K-Means)"
   ]
  },
  {
   "cell_type": "markdown",
   "id": "e156e888",
   "metadata": {},
   "source": [
    "Exemple simple en utilisant le dataset 'ruspini'"
   ]
  },
  {
   "cell_type": "markdown",
   "id": "4e92b773",
   "metadata": {},
   "source": [
    "**Importations utiles**"
   ]
  },
  {
   "cell_type": "code",
   "execution_count": 1,
   "id": "24641e7a",
   "metadata": {},
   "outputs": [],
   "source": [
    "import numpy as np\n",
    "import pandas as pd\n",
    "import matplotlib.pyplot as plt\n",
    "\n",
    "from sklearn.preprocessing import MinMaxScaler\n",
    "from sklearn.cluster import KMeans, AgglomerativeClustering\n",
    "from scipy.spatial.distance import cdist\n",
    "from scipy.cluster.hierarchy import dendrogram, linkage"
   ]
  },
  {
   "cell_type": "markdown",
   "id": "7053aa2f",
   "metadata": {},
   "source": [
    "**Données**"
   ]
  },
  {
   "cell_type": "code",
   "execution_count": 2,
   "id": "9a8d6222",
   "metadata": {},
   "outputs": [],
   "source": [
    "df = pd.read_csv('Ruspini.csv')\n",
    "df.drop('Unnamed: 0', inplace = True, axis = 1)\n",
    "df = df.rename(columns = {'X': 'Indices'})\n",
    "df = df.set_index('Indices')"
   ]
  },
  {
   "cell_type": "code",
   "execution_count": 3,
   "id": "5029e173",
   "metadata": {},
   "outputs": [
    {
     "data": {
      "text/html": [
       "<div>\n",
       "<style scoped>\n",
       "    .dataframe tbody tr th:only-of-type {\n",
       "        vertical-align: middle;\n",
       "    }\n",
       "\n",
       "    .dataframe tbody tr th {\n",
       "        vertical-align: top;\n",
       "    }\n",
       "\n",
       "    .dataframe thead th {\n",
       "        text-align: right;\n",
       "    }\n",
       "</style>\n",
       "<table border=\"1\" class=\"dataframe\">\n",
       "  <thead>\n",
       "    <tr style=\"text-align: right;\">\n",
       "      <th></th>\n",
       "      <th>x</th>\n",
       "      <th>y</th>\n",
       "    </tr>\n",
       "    <tr>\n",
       "      <th>Indices</th>\n",
       "      <th></th>\n",
       "      <th></th>\n",
       "    </tr>\n",
       "  </thead>\n",
       "  <tbody>\n",
       "    <tr>\n",
       "      <th>1</th>\n",
       "      <td>4</td>\n",
       "      <td>53</td>\n",
       "    </tr>\n",
       "    <tr>\n",
       "      <th>2</th>\n",
       "      <td>5</td>\n",
       "      <td>63</td>\n",
       "    </tr>\n",
       "    <tr>\n",
       "      <th>3</th>\n",
       "      <td>10</td>\n",
       "      <td>59</td>\n",
       "    </tr>\n",
       "    <tr>\n",
       "      <th>4</th>\n",
       "      <td>9</td>\n",
       "      <td>77</td>\n",
       "    </tr>\n",
       "    <tr>\n",
       "      <th>5</th>\n",
       "      <td>13</td>\n",
       "      <td>49</td>\n",
       "    </tr>\n",
       "  </tbody>\n",
       "</table>\n",
       "</div>"
      ],
      "text/plain": [
       "          x   y\n",
       "Indices        \n",
       "1         4  53\n",
       "2         5  63\n",
       "3        10  59\n",
       "4         9  77\n",
       "5        13  49"
      ]
     },
     "execution_count": 3,
     "metadata": {},
     "output_type": "execute_result"
    }
   ],
   "source": [
    "df.head()"
   ]
  },
  {
   "cell_type": "markdown",
   "id": "99635561",
   "metadata": {},
   "source": [
    "**Quelques visualisations**"
   ]
  },
  {
   "cell_type": "code",
   "execution_count": 4,
   "id": "01c8f5fb",
   "metadata": {},
   "outputs": [
    {
     "data": {
      "image/png": "[encoded data removed]",
      "text/plain": [
       "<Figure size 432x288 with 1 Axes>"
      ]
     },
     "metadata": {
      "needs_background": "light"
     },
     "output_type": "display_data"
    }
   ],
   "source": [
    "plt.scatter(df['x'], df['y'])\n",
    "plt.xlabel('x')\n",
    "plt.ylabel('y')\n",
    "plt.title('2D Data');"
   ]
  },
  {
   "cell_type": "code",
   "execution_count": 5,
   "id": "162e0f2b",
   "metadata": {},
   "outputs": [
    {
     "data": {
      "image/png": "[encoded data removed]",
      "text/plain": [
       "<Figure size 432x288 with 1 Axes>"
      ]
     },
     "metadata": {
      "needs_background": "light"
     },
     "output_type": "display_data"
    }
   ],
   "source": [
    "plt.boxplot([df['x'], df['y']], labels = ['x', 'y']);"
   ]
  },
  {
   "cell_type": "markdown",
   "id": "08801d53",
   "metadata": {},
   "source": [
    "**Modélisation**"
   ]
  },
  {
   "cell_type": "code",
   "execution_count": 6,
   "id": "fcbb919b",
   "metadata": {},
   "outputs": [],
   "source": [
    "kmeans = KMeans(n_clusters = 2)\n",
    "kmeans.fit(df)\n",
    "centroids = kmeans.cluster_centers_  # Centroïdes\n",
    "labels = kmeans.labels_  # Prédictions"
   ]
  },
  {
   "cell_type": "markdown",
   "id": "acb2dc42",
   "metadata": {},
   "source": [
    "On va utiliser la \"méthode du coude\" (elbow method) pour trouver le nombre de clusters optimal :"
   ]
  },
  {
   "cell_type": "code",
   "execution_count": 7,
   "id": "8721c2a4",
   "metadata": {},
   "outputs": [],
   "source": [
    "distorsions = []\n",
    "for n_clusters in range(2,6):\n",
    "    cluster = KMeans(n_clusters = n_clusters)\n",
    "    cluster.fit(df)\n",
    "    distorsions.append(sum(np.min(cdist(df, cluster.cluster_centers_, 'euclidean'), axis = 1))\n",
    "                          / np.size(df, axis = 0))"
   ]
  },
  {
   "cell_type": "code",
   "execution_count": 8,
   "id": "9b480686",
   "metadata": {},
   "outputs": [
    {
     "data": {
      "image/png": "[encoded data removed]",
      "text/plain": [
       "<Figure size 432x288 with 1 Axes>"
      ]
     },
     "metadata": {
      "needs_background": "light"
     },
     "output_type": "display_data"
    }
   ],
   "source": [
    "plt.plot(range(2,6), distorsions);"
   ]
  },
  {
   "cell_type": "markdown",
   "id": "9830465d",
   "metadata": {},
   "source": [
    "On voit ici que le nombre de cluster optimal est 4 (cohérent avec le tout premier graphique)."
   ]
  },
  {
   "cell_type": "code",
   "execution_count": 9,
   "id": "2aba2c13",
   "metadata": {},
   "outputs": [],
   "source": [
    "kmeans = KMeans(n_clusters = 4)\n",
    "kmeans.fit(df)\n",
    "centroids = kmeans.cluster_centers_\n",
    "labels = kmeans.labels_"
   ]
  },
  {
   "cell_type": "code",
   "execution_count": 10,
   "id": "e2c00df5",
   "metadata": {},
   "outputs": [
    {
     "data": {
      "image/png": "[encoded data removed]",
      "text/plain": [
       "<Figure size 432x288 with 1 Axes>"
      ]
     },
     "metadata": {
      "needs_background": "light"
     },
     "output_type": "display_data"
    }
   ],
   "source": [
    "# Visualisation des clusters et des centroïdes\n",
    "colors = ['r.', 'b.', 'y.', 'g.']\n",
    "\n",
    "# Clusters\n",
    "for i in range(len(df)):\n",
    "    plt.plot(df.iloc[i, 0], df.iloc[i, 1], colors[labels[i]], markersize = 10)\n",
    "    \n",
    "# Centroïdes\n",
    "plt.scatter(centroids[:, 0], centroids[:, 1], color = 'black', marker='X', s = 200);"
   ]
  },
  {
   "cell_type": "markdown",
   "id": "543b28f6",
   "metadata": {},
   "source": [
    "### Clustering hiérarchique (CAH)"
   ]
  },
  {
   "cell_type": "markdown",
   "id": "18903a79",
   "metadata": {},
   "source": [
    "**Données**"
   ]
  },
  {
   "cell_type": "code",
   "execution_count": 11,
   "id": "e5a09aee",
   "metadata": {},
   "outputs": [
    {
     "data": {
      "text/html": [
       "<div>\n",
       "<style scoped>\n",
       "    .dataframe tbody tr th:only-of-type {\n",
       "        vertical-align: middle;\n",
       "    }\n",
       "\n",
       "    .dataframe tbody tr th {\n",
       "        vertical-align: top;\n",
       "    }\n",
       "\n",
       "    .dataframe thead th {\n",
       "        text-align: right;\n",
       "    }\n",
       "</style>\n",
       "<table border=\"1\" class=\"dataframe\">\n",
       "  <thead>\n",
       "    <tr style=\"text-align: right;\">\n",
       "      <th></th>\n",
       "      <th>calories</th>\n",
       "      <th>sodium</th>\n",
       "      <th>calcium</th>\n",
       "      <th>lipides</th>\n",
       "      <th>retinol</th>\n",
       "      <th>folates</th>\n",
       "      <th>proteines</th>\n",
       "      <th>cholesterol</th>\n",
       "      <th>magnesium</th>\n",
       "    </tr>\n",
       "    <tr>\n",
       "      <th>Fromages</th>\n",
       "      <th></th>\n",
       "      <th></th>\n",
       "      <th></th>\n",
       "      <th></th>\n",
       "      <th></th>\n",
       "      <th></th>\n",
       "      <th></th>\n",
       "      <th></th>\n",
       "      <th></th>\n",
       "    </tr>\n",
       "  </thead>\n",
       "  <tbody>\n",
       "    <tr>\n",
       "      <th>CarredelEst</th>\n",
       "      <td>314</td>\n",
       "      <td>353.5</td>\n",
       "      <td>72.6</td>\n",
       "      <td>26.3</td>\n",
       "      <td>51.6</td>\n",
       "      <td>30.3</td>\n",
       "      <td>21.0</td>\n",
       "      <td>70</td>\n",
       "      <td>20</td>\n",
       "    </tr>\n",
       "    <tr>\n",
       "      <th>Babybel</th>\n",
       "      <td>314</td>\n",
       "      <td>238.0</td>\n",
       "      <td>209.8</td>\n",
       "      <td>25.1</td>\n",
       "      <td>63.7</td>\n",
       "      <td>6.4</td>\n",
       "      <td>22.6</td>\n",
       "      <td>70</td>\n",
       "      <td>27</td>\n",
       "    </tr>\n",
       "    <tr>\n",
       "      <th>Beaufort</th>\n",
       "      <td>401</td>\n",
       "      <td>112.0</td>\n",
       "      <td>259.4</td>\n",
       "      <td>33.3</td>\n",
       "      <td>54.9</td>\n",
       "      <td>1.2</td>\n",
       "      <td>26.6</td>\n",
       "      <td>120</td>\n",
       "      <td>41</td>\n",
       "    </tr>\n",
       "    <tr>\n",
       "      <th>Bleu</th>\n",
       "      <td>342</td>\n",
       "      <td>336.0</td>\n",
       "      <td>211.1</td>\n",
       "      <td>28.9</td>\n",
       "      <td>37.1</td>\n",
       "      <td>27.5</td>\n",
       "      <td>20.2</td>\n",
       "      <td>90</td>\n",
       "      <td>27</td>\n",
       "    </tr>\n",
       "    <tr>\n",
       "      <th>Camembert</th>\n",
       "      <td>264</td>\n",
       "      <td>314.0</td>\n",
       "      <td>215.9</td>\n",
       "      <td>19.5</td>\n",
       "      <td>103.0</td>\n",
       "      <td>36.4</td>\n",
       "      <td>23.4</td>\n",
       "      <td>60</td>\n",
       "      <td>20</td>\n",
       "    </tr>\n",
       "  </tbody>\n",
       "</table>\n",
       "</div>"
      ],
      "text/plain": [
       "             calories  sodium  calcium  lipides  retinol  folates  proteines  \\\n",
       "Fromages                                                                       \n",
       "CarredelEst       314   353.5     72.6     26.3     51.6     30.3       21.0   \n",
       "Babybel           314   238.0    209.8     25.1     63.7      6.4       22.6   \n",
       "Beaufort          401   112.0    259.4     33.3     54.9      1.2       26.6   \n",
       "Bleu              342   336.0    211.1     28.9     37.1     27.5       20.2   \n",
       "Camembert         264   314.0    215.9     19.5    103.0     36.4       23.4   \n",
       "\n",
       "             cholesterol  magnesium  \n",
       "Fromages                             \n",
       "CarredelEst           70         20  \n",
       "Babybel               70         27  \n",
       "Beaufort             120         41  \n",
       "Bleu                  90         27  \n",
       "Camembert             60         20  "
      ]
     },
     "execution_count": 11,
     "metadata": {},
     "output_type": "execute_result"
    }
   ],
   "source": [
    "df = pd.read_csv('fromage.txt', sep = '\\t', index_col = 0)\n",
    "df.head()"
   ]
  },
  {
   "cell_type": "markdown",
   "id": "4384313c",
   "metadata": {},
   "source": [
    "**Boxplot des données**"
   ]
  },
  {
   "cell_type": "code",
   "execution_count": 12,
   "id": "d5b193a6",
   "metadata": {},
   "outputs": [
    {
     "data": {
      "image/png": "[encoded data removed]",
      "text/plain": [
       "<Figure size 1440x720 with 1 Axes>"
      ]
     },
     "metadata": {
      "needs_background": "light"
     },
     "output_type": "display_data"
    }
   ],
   "source": [
    "plt.figure(figsize = (20,10))\n",
    "df.boxplot(column = list(df.columns));"
   ]
  },
  {
   "cell_type": "code",
   "execution_count": 13,
   "id": "72a2b4f7",
   "metadata": {
    "scrolled": true
   },
   "outputs": [
    {
     "data": {
      "text/plain": [
       "array([[7.26190476e-01, 8.08536585e-01, 0.00000000e+00, 7.65886288e-01,\n",
       "        1.27865961e-01, 8.26704545e-01, 5.34810127e-01, 5.45454545e-01,\n",
       "        2.43902439e-01],\n",
       "       [7.26190476e-01, 5.26829268e-01, 5.23664122e-01, 7.25752508e-01,\n",
       "        2.34567901e-01, 1.47727273e-01, 5.85443038e-01, 5.45454545e-01,\n",
       "        4.14634146e-01],\n",
       "       [9.85119048e-01, 2.19512195e-01, 7.12977099e-01, 1.00000000e+00,\n",
       "        1.56966490e-01, 0.00000000e+00, 7.12025316e-01, 1.00000000e+00,\n",
       "        7.56097561e-01],\n",
       "       [8.09523810e-01, 7.65853659e-01, 5.28625954e-01, 8.52842809e-01,\n",
       "        0.00000000e+00, 7.47159091e-01, 5.09493671e-01, 7.27272727e-01,\n",
       "        4.14634146e-01],\n",
       "       [5.77380952e-01, 7.12195122e-01, 5.46946565e-01, 5.38461538e-01,\n",
       "        5.81128748e-01, 1.00000000e+00, 6.10759494e-01, 4.54545455e-01,\n",
       "        2.43902439e-01],\n",
       "       [8.83928571e-01, 5.70731707e-01, 7.30534351e-01, 8.49498328e-01,\n",
       "        1.03174603e-01, 1.27840909e-01, 5.98101266e-01, 7.27272727e-01,\n",
       "        4.87804878e-01],\n",
       "       [8.15476190e-01, 4.14634146e-01, 5.57251908e-02, 8.19397993e-01,\n",
       "        4.67372134e-01, 9.97159091e-01, 4.87341772e-01, 6.36363636e-01,\n",
       "        6.34146341e-01],\n",
       "       [6.60714286e-01, 6.19512195e-01, 2.30152672e-01, 7.35785953e-01,\n",
       "        6.99294533e-01, 8.89204545e-01, 4.33544304e-01, 5.45454545e-01,\n",
       "        3.65853659e-01],\n",
       "       [1.00000000e+00, 3.65853659e-01, 4.18702290e-01, 9.73244147e-01,\n",
       "        3.46560847e-01, 1.05113636e-01, 6.93037975e-01, 9.09090909e-01,\n",
       "        4.39024390e-01],\n",
       "       [9.79166667e-01, 1.70731707e-01, 5.64503817e-01, 9.69899666e-01,\n",
       "        1.65784832e-01, 2.84090909e-03, 7.94303797e-01, 1.00000000e+00,\n",
       "        1.00000000e+00],\n",
       "       [7.08333333e-01, 4.87804878e-01, 2.51908397e-02, 7.42474916e-01,\n",
       "        2.33686067e-01, 5.65340909e-01, 5.18987342e-01, 6.36363636e-01,\n",
       "        7.31707317e-02],\n",
       "       [7.64880952e-01, 3.07317073e-01, 7.61832061e-01, 7.12374582e-01,\n",
       "        2.52204586e-01, 1.22159091e-01, 6.51898734e-01, 6.36363636e-01,\n",
       "        8.29268293e-01],\n",
       "       [9.16666667e-01, 9.26829268e-02, 8.99236641e-01, 8.69565217e-01,\n",
       "        1.69312169e-01, 3.40909091e-02, 8.00632911e-01, 9.09090909e-01,\n",
       "        8.53658537e-01],\n",
       "       [4.04761905e-01, 3.36585366e-01, 7.63358779e-04, 5.05016722e-01,\n",
       "        1.00000000e+00, 8.46590909e-01, 2.21518987e-01, 3.63636364e-01,\n",
       "        1.46341463e-01],\n",
       "       [6.60714286e-01, 8.97560976e-01, 3.66030534e-01, 6.88963211e-01,\n",
       "        3.55379189e-01, 1.22159091e-01, 4.01898734e-01, 5.45454545e-01,\n",
       "        2.43902439e-01],\n",
       "       [2.97619048e-02, 4.63414634e-02, 2.81297710e-01, 3.34448161e-03,\n",
       "        1.13756614e-01, 5.34090909e-01, 1.32911392e-01, 0.00000000e+00,\n",
       "        2.43902439e-02],\n",
       "       [1.33928571e-01, 7.31707317e-03, 8.47328244e-02, 1.47157191e-01,\n",
       "        2.39858907e-01, 6.07954545e-01, 9.17721519e-02, 1.81818182e-01,\n",
       "        0.00000000e+00],\n",
       "       [7.97619048e-01, 7.04878049e-01, 6.26335878e-01, 8.59531773e-01,\n",
       "        8.46560847e-02, 6.81818182e-02, 5.15822785e-01, 7.27272727e-01,\n",
       "        7.31707317e-01],\n",
       "       [8.24404762e-01, 6.41463415e-01, 5.58778626e-01, 8.72909699e-01,\n",
       "        1.80776014e-01, 1.30681818e-01, 6.17088608e-01, 6.36363636e-01,\n",
       "        4.87804878e-01],\n",
       "       [9.25595238e-01, 5.31707317e-01, 1.00000000e+00, 8.06020067e-01,\n",
       "        4.66490300e-01, 1.13636364e-01, 1.00000000e+00, 6.36363636e-01,\n",
       "        8.78048780e-01],\n",
       "       [2.14285714e-01, 0.00000000e+00, 2.13740458e-02, 2.34113712e-01,\n",
       "        2.31922399e-01, 5.45454545e-01, 1.67721519e-01, 9.09090909e-02,\n",
       "        0.00000000e+00],\n",
       "       [6.84523810e-01, 4.90243902e-01, 3.20992366e-01, 6.68896321e-01,\n",
       "        1.40211640e-01, 7.95454545e-02, 5.37974684e-01, 5.45454545e-01,\n",
       "        2.92682927e-01],\n",
       "       [8.48214286e-01, 5.12195122e-01, 4.05725191e-01, 8.22742475e-01,\n",
       "        1.26984127e-01, 1.59090909e-01, 5.79113924e-01, 7.27272727e-01,\n",
       "        3.65853659e-01],\n",
       "       [7.11309524e-01, 6.09756098e-01, 4.95038168e-01, 7.09030100e-01,\n",
       "        3.17460317e-01, 1.96022727e-01, 4.93670886e-01, 6.36363636e-01,\n",
       "        4.87804878e-01],\n",
       "       [8.92857143e-01, 1.00000000e+00, 3.41221374e-01, 9.29765886e-01,\n",
       "        4.09171076e-01, 3.43750000e-01, 4.62025316e-01, 8.18181818e-01,\n",
       "        3.65853659e-01],\n",
       "       [6.78571429e-01, 4.46341463e-01, 7.19083969e-01, 6.65551839e-01,\n",
       "        2.05467372e-01, 1.56250000e-01, 6.07594937e-01, 5.45454545e-01,\n",
       "        3.90243902e-01],\n",
       "       [7.47023810e-01, 5.60975610e-01, 2.01908397e-01, 7.99331104e-01,\n",
       "        2.22222222e-01, 1.42045455e-01, 5.60126582e-01, 6.36363636e-01,\n",
       "        2.43902439e-01],\n",
       "       [7.47023810e-01, 2.87804878e-01, 5.54961832e-01, 8.66220736e-01,\n",
       "        1.06701940e-01, 7.10227273e-02, 4.27215190e-01, 6.36363636e-01,\n",
       "        4.87804878e-01],\n",
       "       [0.00000000e+00, 1.68292683e-01, 5.46183206e-01, 0.00000000e+00,\n",
       "        5.11463845e-02, 4.82954545e-02, 0.00000000e+00, 2.72727273e-02,\n",
       "        9.75609756e-02]])"
      ]
     },
     "execution_count": 13,
     "metadata": {},
     "output_type": "execute_result"
    }
   ],
   "source": [
    "# Normalisation des données\n",
    "scaler = MinMaxScaler()\n",
    "scaler.fit_transform(df)"
   ]
  },
  {
   "cell_type": "markdown",
   "id": "a7c493c2",
   "metadata": {},
   "source": [
    "**Classification mixte**"
   ]
  },
  {
   "cell_type": "markdown",
   "id": "e9813a25",
   "metadata": {},
   "source": [
    "Première étape de la classification mixte : on applique un algorithme de KMeans sur les observations de base."
   ]
  },
  {
   "cell_type": "code",
   "execution_count": 14,
   "id": "ff543ce2",
   "metadata": {},
   "outputs": [
    {
     "data": {
      "text/plain": [
       "KMeans(n_clusters=29)"
      ]
     },
     "execution_count": 14,
     "metadata": {},
     "output_type": "execute_result"
    }
   ],
   "source": [
    "kmeans1 = KMeans(n_clusters = 29)\n",
    "kmeans1.fit(df)"
   ]
  },
  {
   "cell_type": "code",
   "execution_count": 15,
   "id": "dbe0a628",
   "metadata": {},
   "outputs": [],
   "source": [
    "# On extrait les centroïdes :\n",
    "centroid_kmeans1 = kmeans1.cluster_centers_\n",
    "\n",
    "# Et les prédictions :\n",
    "kmeans1_predictions = kmeans1.labels_"
   ]
  },
  {
   "cell_type": "markdown",
   "id": "43d96093",
   "metadata": {},
   "source": [
    "**Classification ascendante hiérarchique (CAH)**"
   ]
  },
  {
   "cell_type": "markdown",
   "id": "d0b2c591",
   "metadata": {},
   "source": [
    "On va ici utiliser une CAH sur les centroïdes issus de l'étape précédente : nous allons regrouper les centroïdes obtenus en clusters (et non les échantillons).\n",
    "On va utiliser un dendrogramme pour connaître le nombre de cluster optimal :"
   ]
  },
  {
   "cell_type": "code",
   "execution_count": 16,
   "id": "5cfd3f12",
   "metadata": {},
   "outputs": [
    {
     "data": {
      "image/png": "[encoded data removed]",
      "text/plain": [
       "<Figure size 1440x720 with 1 Axes>"
      ]
     },
     "metadata": {
      "needs_background": "light"
     },
     "output_type": "display_data"
    }
   ],
   "source": [
    "plt.figure(figsize = (20,10))\n",
    "Z = linkage(centroid_kmeans1, method = 'ward', metric = 'euclidean')\n",
    "dendrogram(Z, labels = df.index, leaf_rotation = 90, color_threshold = 290);"
   ]
  },
  {
   "cell_type": "markdown",
   "id": "ad438915",
   "metadata": {},
   "source": [
    "Ici, le dendrogramme suggère un découpage en 2 groupes (le plus grand \"saut\" entre deux clusters consécutifs étant le premier)."
   ]
  },
  {
   "cell_type": "code",
   "execution_count": 17,
   "id": "7c822783",
   "metadata": {},
   "outputs": [],
   "source": [
    "cluster = AgglomerativeClustering(n_clusters = 2)\n",
    "cluster.fit(centroid_kmeans1)\n",
    "cah_clusters = cluster.labels_"
   ]
  },
  {
   "cell_type": "markdown",
   "id": "56436fb6",
   "metadata": {},
   "source": [
    "On va maintenant associer à chaque observation du jeu de départ un cluster issu de la CAH : on fait la correspondance entre les clusters de kmeans1 avec les clusters de la CAH pour associer un cluster à chaque observation :"
   ]
  },
  {
   "cell_type": "code",
   "execution_count": 18,
   "id": "bbaa3cbb",
   "metadata": {},
   "outputs": [],
   "source": [
    "cluster_CAH = []\n",
    "for i in kmeans1_predictions:\n",
    "    cluster_CAH.append(cah_clusters[i])\n",
    "\n",
    "# On crée une nouvelle colonne contenant le cluster CAH associé :\n",
    "df['cluster_CAH'] = cluster_CAH"
   ]
  },
  {
   "cell_type": "code",
   "execution_count": 19,
   "id": "6e4842e1",
   "metadata": {},
   "outputs": [],
   "source": [
    "# On calcule les centroïdes de chaque cluster obtenu par CAH :\n",
    "centroids_CAH = df.groupby('cluster_CAH').mean()"
   ]
  },
  {
   "cell_type": "code",
   "execution_count": 20,
   "id": "c9cb32e9",
   "metadata": {},
   "outputs": [],
   "source": [
    "# On supprime la colonne créée précédemment :\n",
    "df.drop('cluster_CAH', axis = 1, inplace = True)"
   ]
  },
  {
   "cell_type": "markdown",
   "id": "58617f43",
   "metadata": {},
   "source": [
    "On va maintenant réentraîner un algorithme de KMeans en prenant comme centroïdes initiaux ceux calculés précédemment :"
   ]
  },
  {
   "cell_type": "code",
   "execution_count": 21,
   "id": "b766e9be",
   "metadata": {},
   "outputs": [
    {
     "name": "stderr",
     "output_type": "stream",
     "text": [
      "C:\\ProgramData\\Anaconda3\\lib\\site-packages\\sklearn\\cluster\\_kmeans.py:984: RuntimeWarning: Explicit initial center position passed: performing only one init in KMeans instead of n_init=10.\n",
      "  self._check_params(X)\n"
     ]
    },
    {
     "data": {
      "text/plain": [
       "KMeans(init=             calories  sodium  calcium  lipides  retinol  folates  proteines  \\\n",
       "cluster_CAH                                                                    \n",
       "0              331.76  236.54  194.052   27.020   69.548   12.456     22.244   \n",
       "1              101.75   44.75  133.750    6.275   55.150   16.475      7.200   \n",
       "\n",
       "             cholesterol  magnesium  \n",
       "cluster_CAH                          \n",
       "0                  83.60      29.48  \n",
       "1                  18.25      11.25  ,\n",
       "       n_clusters=2)"
      ]
     },
     "execution_count": 21,
     "metadata": {},
     "output_type": "execute_result"
    }
   ],
   "source": [
    "kmeans2 = KMeans(n_clusters = 2, init = centroids_CAH)\n",
    "kmeans2.fit(df)"
   ]
  },
  {
   "cell_type": "code",
   "execution_count": 22,
   "id": "2a0bf12a",
   "metadata": {},
   "outputs": [],
   "source": [
    "# On extrait les centroïdes :\n",
    "centroid_kmeans2 = kmeans2.cluster_centers_\n",
    "\n",
    "# Et les prédictions :\n",
    "kmeans2_predictions = kmeans2.labels_"
   ]
  },
  {
   "cell_type": "code",
   "execution_count": 23,
   "id": "43fafa00",
   "metadata": {},
   "outputs": [
    {
     "data": {
      "image/png": "[encoded data removed]",
      "text/plain": [
       "<Figure size 432x288 with 1 Axes>"
      ]
     },
     "metadata": {
      "needs_background": "light"
     },
     "output_type": "display_data"
    }
   ],
   "source": [
    "# Visualisation des clusters et des centroïdes\n",
    "colors = ['r.', 'b.']\n",
    "\n",
    "# Clusters\n",
    "for i in range(len(df)):\n",
    "    plt.plot(df.iloc[i, 0], df.iloc[i, 1], colors[kmeans2_predictions[i]], markersize = 10)\n",
    "    \n",
    "# Centroïdes\n",
    "plt.scatter(centroid_kmeans2[:, 0], centroid_kmeans2[:, 1], color = 'black', marker='X', s = 200);"
   ]
  },
  {
   "cell_type": "markdown",
   "id": "126b3e65",
   "metadata": {},
   "source": [
    "Success !"
   ]
  }
 ],
 "metadata": {
  "kernelspec": {
   "display_name": "Python 3 (ipykernel)",
   "language": "python",
   "name": "python3"
  },
  "language_info": {
   "codemirror_mode": {
    "name": "ipython",
    "version": 3
   },
   "file_extension": ".py",
   "mimetype": "text/x-python",
   "name": "python",
   "nbconvert_exporter": "python",
   "pygments_lexer": "ipython3",
   "version": "3.9.7"
  }
 },
 "nbformat": 4,
 "nbformat_minor": 5
}
